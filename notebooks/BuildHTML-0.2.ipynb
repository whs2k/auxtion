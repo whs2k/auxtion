{
 "cells": [
  {
   "cell_type": "code",
   "execution_count": 17,
   "metadata": {},
   "outputs": [
    {
     "data": {
      "text/plain": [
       "'https://partnerhelp.ebay.com/helpcenter/s/article/Using-Buy-APIs-to-retrieve-Luxury-Goods?language=en_US'"
      ]
     },
     "execution_count": 17,
     "metadata": {},
     "output_type": "execute_result"
    }
   ],
   "source": [
    "import pandas as pd\n",
    "import requests\n",
    "from datetime import datetime\n",
    "'https://partnerhelp.ebay.com/helpcenter/s/article/Using-Buy-APIs-to-retrieve-Luxury-Goods?language=en_US'"
   ]
  },
  {
   "cell_type": "code",
   "execution_count": 18,
   "metadata": {},
   "outputs": [],
   "source": [
    "body = \"\"\"\n",
    "    <body>\n",
    "        <style>\n",
    "        table {\n",
    "            border-collapse: collapse;\n",
    "            border: 1px solid silver;\n",
    "        }\n",
    "        table tr:nth-child(even) {\n",
    "            background: #E0E0E0;\n",
    "        }\n",
    "        </style>\n",
    "        %s\n",
    "    </body>\n",
    "\"\"\""
   ]
  },
  {
   "cell_type": "code",
   "execution_count": 20,
   "metadata": {},
   "outputs": [],
   "source": [
    "today = datetime.now()\n",
    "d = {'col1': [today, 2], 'col2': [3, 4]}\n",
    "filtered_df= pd.DataFrame(data=d)\n",
    "# dfs = pd.read_html(html.text, attrs={'width': '656'}, header=0, parse_dates=['Advertised Date'])\n",
    "\n",
    "\n",
    "\n",
    "table_html = filtered_df.to_html(index=False,render_links=True, justify=\"center\", \n",
    "    escape=False, border=4)\n",
    "body = html_string %(table_html)"
   ]
  },
  {
   "cell_type": "code",
   "execution_count": 21,
   "metadata": {},
   "outputs": [
    {
     "data": {
      "text/plain": [
       "'    <footer class=\"footer\" style=\"background: rgb(248,248,255)\">      <div class=\"container\">                    <div class=\"d-none d-md-block\">            Auxtion          </div>      </div>      <!--      <div class=\"container\" style=\"text-align:left\">        Copyright © 2021 StockFries      </div>      <div class=\"container\" style=\"text-align:right\">              </div>      -->          </footer></html>'"
      ]
     },
     "execution_count": 21,
     "metadata": {},
     "output_type": "execute_result"
    }
   ],
   "source": [
    "with open('footer.html', 'r') as file:\n",
    "    footer = file.read().replace('\\n', '')\n",
    "with open('navbar.html', 'r') as file:\n",
    "    header = file.read().replace('\\n', '')\n",
    "footer"
   ]
  },
  {
   "cell_type": "code",
   "execution_count": 22,
   "metadata": {},
   "outputs": [],
   "source": [
    "final = header +body+ footer "
   ]
  },
  {
   "cell_type": "code",
   "execution_count": 23,
   "metadata": {},
   "outputs": [],
   "source": [
    "with open('index.html', 'w') as file:\n",
    "    file.write(final)"
   ]
  },
  {
   "cell_type": "code",
   "execution_count": null,
   "metadata": {},
   "outputs": [],
   "source": []
  }
 ],
 "metadata": {
  "kernelspec": {
   "display_name": "Python 3",
   "language": "python",
   "name": "python3"
  },
  "language_info": {
   "codemirror_mode": {
    "name": "ipython",
    "version": 3
   },
   "file_extension": ".py",
   "mimetype": "text/x-python",
   "name": "python",
   "nbconvert_exporter": "python",
   "pygments_lexer": "ipython3",
   "version": "3.7.9"
  }
 },
 "nbformat": 4,
 "nbformat_minor": 4
}
