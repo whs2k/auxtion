{
 "cells": [
  {
   "cell_type": "code",
   "execution_count": 66,
   "metadata": {},
   "outputs": [],
   "source": [
    "import pandas as pd\n",
    "import requests\n",
    "from datetime import datetime\n",
    "import sys\n",
    "pd.set_option('display.max_colwidth', -1)"
   ]
  },
  {
   "cell_type": "code",
   "execution_count": null,
   "metadata": {},
   "outputs": [],
   "source": []
  },
  {
   "cell_type": "code",
   "execution_count": 67,
   "metadata": {},
   "outputs": [],
   "source": [
    "body_html_string = \"\"\"\n",
    "    <body>\n",
    "        <h1>Auxtion; what's actually hot\n",
    "        <h2>Welcome to auxtion.com where we scrape \n",
    "        the largest luxury purchases to show you what's actually sold</h2>\n",
    "            <h3> Ebay </h3>\n",
    "            {html_table}\n",
    "    \n",
    "    </body>\n",
    "\"\"\""
   ]
  },
  {
   "cell_type": "code",
   "execution_count": 68,
   "metadata": {},
   "outputs": [
    {
     "name": "stdout",
     "output_type": "stream",
     "text": [
      "buy/marketplace-insights api\n"
     ]
    },
    {
     "ename": "KeyError",
     "evalue": "'itemSales'",
     "output_type": "error",
     "traceback": [
      "\u001b[0;31m---------------------------------------------------------------------------\u001b[0m",
      "\u001b[0;31mKeyError\u001b[0m                                  Traceback (most recent call last)",
      "\u001b[0;32m<ipython-input-68-21630446510f>\u001b[0m in \u001b[0;36m<module>\u001b[0;34m\u001b[0m\n\u001b[1;32m     24\u001b[0m \u001b[0mweb_urls\u001b[0m \u001b[0;34m=\u001b[0m \u001b[0;34m[\u001b[0m\u001b[0;34m]\u001b[0m\u001b[0;34m\u001b[0m\u001b[0;34m\u001b[0m\u001b[0m\n\u001b[1;32m     25\u001b[0m \u001b[0;34m\u001b[0m\u001b[0m\n\u001b[0;32m---> 26\u001b[0;31m \u001b[0;32mfor\u001b[0m \u001b[0mx\u001b[0m \u001b[0;32min\u001b[0m \u001b[0mcontent\u001b[0m\u001b[0;34m[\u001b[0m\u001b[0;34m'itemSales'\u001b[0m\u001b[0;34m]\u001b[0m\u001b[0;34m:\u001b[0m\u001b[0;34m\u001b[0m\u001b[0;34m\u001b[0m\u001b[0m\n\u001b[0m\u001b[1;32m     27\u001b[0m     \u001b[0;31m#print(x['title'])\u001b[0m\u001b[0;34m\u001b[0m\u001b[0;34m\u001b[0m\u001b[0;34m\u001b[0m\u001b[0m\n\u001b[1;32m     28\u001b[0m     \u001b[0;31m#print(x['lastSoldDate'])\u001b[0m\u001b[0;34m\u001b[0m\u001b[0;34m\u001b[0m\u001b[0;34m\u001b[0m\u001b[0m\n",
      "\u001b[0;31mKeyError\u001b[0m: 'itemSales'"
     ]
    }
   ],
   "source": [
    "#get token: https://developer.ebay.com/my/auth/?env=sandbox&index=0\n",
    "dummy_token = \"v^1.1#i^1#f^0#r^0#I^3#p^1#t^H4sIAAAAAAAAAOVYe2wURRjv9UUQCsSgNgT0shqENrs3u/fqbriLV/q6ClzlSlMagexjtl26t7vsznJ3ArHWSH0QjYgGYwI1akiIxgcYYoiSACKIidYUg0JMQxCIf6GiEJXE2W0p10KgpWds4v1z2Znv++b7/eZ7zAzoKp1asblh8+Uyz5TC3i7QVejx0NPA1NKSyhlFhXNKCkCOgKe366Gu4u6iC4ssPqUa3HJoGbpmQW8mpWoW5w5GCNvUOJ23FIvT+BS0OCRyydjSJRxDAc4wdaSLukp44zURIizTALJCEAAxLPkhi0e1azab9QjBSiEWiiAg0nRYYgMAz1uWDeOahXgNRQgGMAxJMyQTbAYMF6A5wFIhmm0jvC3QtBRdwyIUIKKuu5yra+b4emtXecuCJsJGiGg8VpdMxOI1tcuaF/lybEWHeEgiHtnWyK/FugS9Lbxqw1svY7nSXNIWRWhZhC86uMJIo1zsmjN34L5LtV8W2AAUhUAVG2LlUH6orNPNFI9u7Yczokik7IpyUEMKyt6OUcyGsBaKaOhrGTYRr/E6f4/ZvKrICjQjRG11bGWsqYmINkCpHTbo7WTMzjiAyWR1KxkGLJBDTNhPhnHw8AIvDK0zaGyI5VELLdY1SXFMWN5lOqqG2Gk4mhp/DjVYKKElzJiMHIdy5QLDFAbanD0d3EQbdWjOtsIU5sHrft5+A4a1ETIVwUZw2MLoCZehCMEbhiIRoyfdUByKnowVIToQMjifL51OU2k/pZvtPgYA2te6dElS7IApnnBknVx35ZXbK5CKC0WEWNNSOJQ1sC8ZHKrYAa2diPrZMM3QQ7yPdCs6evSGgRzMvpEJka8EwTESkAJ+GGaCwSCUq/KRINGhGPU5fkCBz5Ip3uyEyFB5EZIijjM7BU1F4vxBmfFXyZDEBU8mA6wsk0JQCpG0DCGAUBBEtup/lCdjjfQkFE2I8hPq+Qpz2be0ndXoJEglmpf717KxdO2K+lgmEU6vaFgXDMTUrJpd90Rbo56oiow1GW4KfrGqYGaa8fqTL9cbdAtBaULwkqJuwCZdVcTs5Npgvyk18SbKVttZ/J2Eqor/JgQ1ZhjxPBXsvG3guGrFncHOY5/6b3rUTVFZTtxOLlSOvoUN8IZCOV2IEp1c11M+ncdHEGd4jeu190bBG4V8gp2l2m1oIeyJhA+BY1ZScC2ncEOTxq4y2C4xiLGr4BuGZIvojhZy+zKF2VTaO5A1rjUzEyFFsNXOCQWdgm8OkyrkMNxB3Io0eOSnXPCUtV6kTGjptolvO1TCOQI3651QwycKZOqqCs2WiaWfU0tTKRvxggonW1HNQ3VR+HEfd4q7PUf+XVx0KEyz/hAIsRPCJroHmjWTrSfkuRWO42LjG/nKEi1wf3S351PQ7fmk0OMBYUDSlWBhadGK4qLphIWLCWXxmiToGUrhZQrXMY1HtgmpTpg1eMUsLPUoP/SLV3Led3pXgfLhF56pRfS0nOceMPf6TAk9874yhqEZJgiYAA3YNvDg9dli+t7i2bXkYW5KxZ+H7v6amPWbWRFfcGTgNCgbFvJ4SgpwMBZ4e5/jB07OOz7/9At/7bqrca/e/2Z9ufb3GdXeUnvPqhM9c977/fL+WWXnqi7PKKlY9W5fTV3/oh0N5w+tnv5OpW/b9G0DZFfRudJnn8/s/qzv/JbtV+a90WQW/lq96Zv+xleOppYfnUFs8B5rPPbiqe9+/GIW8/aemqt/bPoe/CzWox2Xsh8+fpItD556dQFx9nWo/DSbHNi/88SmhSv3BZXY3s6Pnvw8aaSvPL27p+aZDRfff6tgfuwgqtu6a3483bPnkZf3Jx7dWTq3R6qvXH36ovHBQ7N/Kb966eHWvjnf9j51tnxjS2bvtjOv9SUfOL71fhjefmDfpYNEunXn+i8Pf/VSQdUB9YJ2MLRx5seD2/gPMq1OAHkTAAA=\"\n",
    "print('buy/marketplace-insights api')\n",
    "header = {'Authorization':'Bearer {}'.format(dummy_token),\n",
    "          'X-EBAY-C-MARKETPLACE-ID': 'EBAY_US',\n",
    "          'Content-Type':'application/json'}\n",
    "          #'X-EBAY-C-ENDUSERCTX':'affiliateCampaignId=<ePNCampaignId>,affiliateReferenceId=<referenceId>'}\n",
    "base_url = \"https://api.sandbox.ebay.com/buy/marketplace_insights/v1_beta/item_sales/search?\"\n",
    "query = \"q=watch\"\n",
    "sort = \"&sort=-price\"\n",
    "category = \"&category_ids=31387\"#281\"\n",
    "filters = '''&filter=lastSoldDate:[2022-01-22T00:00:00Z..2022-12-24T00:00:00Z],\n",
    "conditions:{NEW|USED},price:[10..10000],priceCurrency:USD'''\n",
    "limit= \"&limit=10\"\n",
    "url = base_url+query+filters+sort+limit\n",
    "\n",
    "r = requests.get(url, headers=header)\n",
    "content = r.json()\n",
    "#print(content)\n",
    "#print(content['total'])\n",
    "titles=[]\n",
    "sold_dates=[] \n",
    "sold_prices=[] \n",
    "web_urls = []\n",
    " \n",
    "for x in content['itemSales']:\n",
    "    #print(x['title'])\n",
    "    #print(x['lastSoldDate'])\n",
    "    #print(x['lastSoldPrice'])\n",
    "    #print(x['itemWebUrl'])     \n",
    "    titles.append(x['title'])\n",
    "    sold_dates.append(x['lastSoldDate'])\n",
    "    sold_prices.append(str(str(x['lastSoldPrice']['value'])+' ' +\n",
    "                       str(x['lastSoldPrice']['currency'])))\n",
    "    web_urls.append(x['itemWebUrl'])\n",
    "df = pd.DataFrame()\n",
    "df['title'] = titles\n",
    "df['sold_date'] = sold_dates\n",
    "df['sold_price'] = sold_prices\n",
    "df['web_url'] = web_urls\n",
    "df.tail()"
   ]
  },
  {
   "cell_type": "code",
   "execution_count": 62,
   "metadata": {},
   "outputs": [],
   "source": [
    "today = str(datetime.now()).split(' ')[0]\n",
    "#d = {'col1': [today, 2], 'col2': [3, 4]}\n",
    "#filtered_df= pd.DataFrame(data=d)\n",
    "# dfs = pd.read_html(html.text, attrs={'width': '656'}, header=0, parse_dates=['Advertised Date'])\n",
    "\n",
    "table_html = df.to_html(index=False,render_links=True, justify=\"center\", \n",
    "    escape=False, border=4)\n",
    "body_html_string = body_html_string.format(html_table=table_html)#body %(table_html)"
   ]
  },
  {
   "cell_type": "code",
   "execution_count": 63,
   "metadata": {},
   "outputs": [],
   "source": [
    "with open('footer.html', 'r') as file:\n",
    "    footer = file.read().replace('\\n', '')\n",
    "with open('navbar.html', 'r') as file:\n",
    "    header = file.read().replace('\\n', '')\n",
    "#footer"
   ]
  },
  {
   "cell_type": "code",
   "execution_count": 64,
   "metadata": {},
   "outputs": [],
   "source": [
    "final = header +body_html_string+ footer \n",
    "#print(final)\n",
    "final = final.format(most_recent_filing_date=today)"
   ]
  },
  {
   "cell_type": "code",
   "execution_count": 65,
   "metadata": {},
   "outputs": [],
   "source": [
    "with open('index.html', 'w') as file:\n",
    "    file.write(final)"
   ]
  },
  {
   "cell_type": "code",
   "execution_count": 69,
   "metadata": {},
   "outputs": [],
   "source": [
    "df.to_csv('scrapped_data.csv', index=False)"
   ]
  },
  {
   "cell_type": "code",
   "execution_count": null,
   "metadata": {},
   "outputs": [],
   "source": []
  }
 ],
 "metadata": {
  "kernelspec": {
   "display_name": "Python 3",
   "language": "python",
   "name": "python3"
  },
  "language_info": {
   "codemirror_mode": {
    "name": "ipython",
    "version": 3
   },
   "file_extension": ".py",
   "mimetype": "text/x-python",
   "name": "python",
   "nbconvert_exporter": "python",
   "pygments_lexer": "ipython3",
   "version": "3.7.9"
  }
 },
 "nbformat": 4,
 "nbformat_minor": 4
}
