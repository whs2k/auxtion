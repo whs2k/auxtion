{
 "cells": [
  {
   "cell_type": "code",
   "execution_count": 182,
   "metadata": {},
   "outputs": [],
   "source": [
    "\n",
    "#import urllib3\n",
    "from bs4 import BeautifulSoup\n",
    "\n",
    "import requests\n",
    "import re\n",
    "#import urlparse\n",
    "#from selenium import webdriver\n",
    "#from csv import DictWriter\n",
    "#import json\n",
    "\n",
    "#aux_date, aux_name, aux_url, item_name,item_category,item_price, item_url"
   ]
  },
  {
   "cell_type": "code",
   "execution_count": 183,
   "metadata": {},
   "outputs": [
    {
     "name": "stdout",
     "output_type": "stream",
     "text": [
      "33\n",
      "http://www.christies.com/results/?month=1&year=2022&locations=&scids=&action=paging&initialpageload=false&pg=1\n"
     ]
    }
   ],
   "source": [
    "\n",
    "#Step 1. Generating first level urls, for month 1-12, year 1998-2016, possible page range: 1-3\n",
    "url_list=[]\n",
    "for i in range(1,12):\n",
    "    for j in range (2022, 2023):\n",
    "        for k in range(1,4):\n",
    "            urll='http://www.christies.com/results/?month='+str(i)+'&year='+str(j)+'&locations=&scids=&action=paging&initialpageload=false&pg='+str(k)\n",
    "            url_list.append(urll)\n",
    "            #print(urll)\n",
    "print(len(url_list))\n",
    "print(url_list[0])\n"
   ]
  },
  {
   "cell_type": "code",
   "execution_count": 168,
   "metadata": {},
   "outputs": [
    {
     "name": "stdout",
     "output_type": "stream",
     "text": [
      "http://www.christies.com/results/?month=1&year=2022&locations=&scids=&action=paging&initialpageload=false&pg=1\n",
      "[]\n",
      "https://onlineonly.christies.com/sso?SaleID=29139&SaleNumber=19981 \n",
      "                                                            Old Master & British Drawings \n",
      "                                                        \n"
     ]
    }
   ],
   "source": [
    "print(url_list[0])\n",
    "auction =requests.get(url_list[0])\n",
    "auction.text\n",
    "soup = BeautifulSoup(auction.text, 'html.parser')\n",
    "\n",
    "\n",
    "url_find = soup.find(\"description\")\n",
    "print(soup.findAll('event'))#'title_txt'))\n",
    "soup.events\n",
    "#print(soup.prettify())\n",
    "\n",
    "#Getting the Auction\n",
    "event_url = soup.body.main.h4.a['href']\n",
    "event_name =soup.body.main.h4.a.text\n",
    "print(event_url,event_name)\n",
    "\n",
    "#Getting the item details"
   ]
  },
  {
   "cell_type": "code",
   "execution_count": null,
   "metadata": {},
   "outputs": [],
   "source": []
  },
  {
   "cell_type": "code",
   "execution_count": 135,
   "metadata": {},
   "outputs": [
    {
     "name": "stdout",
     "output_type": "stream",
     "text": [
      "https://onlineonly.christies.com/sso?SaleID=29139&SaleNumber=19981 \n",
      "                                                            Old Master & British Drawings \n",
      "                                                        \n"
     ]
    }
   ],
   "source": [
    "'''<script>\n",
    "        window.chrComponents = window.chrComponents || {};\n",
    "        window.chrComponents.calendar = {\n",
    "            data: {\"auction_results_api_endpoint\":\n",
    "'''\n",
    "set([tag.name for tag in soup.find_all()])\n",
    "set([x.name for x in soup.body.find_all()])\n",
    "xs = [x.name for x in soup.body.main.find_all()]\n",
    "#set([x.name for x in soup.body.main.img.find_all()])\n",
    "#soup.body.img\n",
    "#xs[0]\n",
    "xs = [x.name for x in soup.body.main.find_all()]\n",
    "set(xs)\n",
    "soup.body.main.h4\n"
   ]
  },
  {
   "cell_type": "code",
   "execution_count": 171,
   "metadata": {},
   "outputs": [
    {
     "ename": "TypeError",
     "evalue": "'NoneType' object is not callable",
     "output_type": "error",
     "traceback": [
      "\u001b[0;31m---------------------------------------------------------------------------\u001b[0m",
      "\u001b[0;31mTypeError\u001b[0m                                 Traceback (most recent call last)",
      "\u001b[0;32m<ipython-input-171-7026a2878905>\u001b[0m in \u001b[0;36m<module>\u001b[0;34m\u001b[0m\n\u001b[1;32m      3\u001b[0m \u001b[0mauction\u001b[0m\u001b[0;34m.\u001b[0m\u001b[0mtext\u001b[0m\u001b[0;34m\u001b[0m\u001b[0;34m\u001b[0m\u001b[0m\n\u001b[1;32m      4\u001b[0m \u001b[0msoup\u001b[0m \u001b[0;34m=\u001b[0m \u001b[0mBeautifulSoup\u001b[0m\u001b[0;34m(\u001b[0m\u001b[0mauction\u001b[0m\u001b[0;34m.\u001b[0m\u001b[0mtext\u001b[0m\u001b[0;34m,\u001b[0m \u001b[0;34m'html.parser'\u001b[0m\u001b[0;34m)\u001b[0m\u001b[0;34m\u001b[0m\u001b[0;34m\u001b[0m\u001b[0m\n\u001b[0;32m----> 5\u001b[0;31m \u001b[0msoup\u001b[0m\u001b[0;34m.\u001b[0m\u001b[0mkeys\u001b[0m\u001b[0;34m(\u001b[0m\u001b[0;34m)\u001b[0m\u001b[0;31m#.body\u001b[0m\u001b[0;34m\u001b[0m\u001b[0;34m\u001b[0m\u001b[0m\n\u001b[0m\u001b[1;32m      6\u001b[0m \u001b[0;34m\u001b[0m\u001b[0m\n",
      "\u001b[0;31mTypeError\u001b[0m: 'NoneType' object is not callable"
     ]
    }
   ],
   "source": [
    "r = requests.get(event_url)\n",
    "auction = requests.get(event_url)\n",
    "auction.text\n",
    "soup = BeautifulSoup(auction.text, 'html.parser')\n",
    "soup.keys()#.body\n",
    "\n"
   ]
  },
  {
   "cell_type": "code",
   "execution_count": 181,
   "metadata": {},
   "outputs": [
    {
     "ename": "TypeError",
     "evalue": "'NoneType' object is not subscriptable",
     "output_type": "error",
     "traceback": [
      "\u001b[0;31m---------------------------------------------------------------------------\u001b[0m",
      "\u001b[0;31mTypeError\u001b[0m                                 Traceback (most recent call last)",
      "\u001b[0;32m<ipython-input-181-86be8e552925>\u001b[0m in \u001b[0;36m<module>\u001b[0;34m\u001b[0m\n\u001b[1;32m      1\u001b[0m \u001b[0mxs\u001b[0m \u001b[0;34m=\u001b[0m \u001b[0;34m[\u001b[0m\u001b[0mx\u001b[0m\u001b[0;34m.\u001b[0m\u001b[0mname\u001b[0m \u001b[0;32mfor\u001b[0m \u001b[0mx\u001b[0m \u001b[0;32min\u001b[0m \u001b[0msoup\u001b[0m\u001b[0;34m.\u001b[0m\u001b[0mfind_all\u001b[0m\u001b[0;34m(\u001b[0m\u001b[0;34m)\u001b[0m\u001b[0;34m]\u001b[0m\u001b[0;34m\u001b[0m\u001b[0;34m\u001b[0m\u001b[0m\n\u001b[1;32m      2\u001b[0m \u001b[0mset\u001b[0m\u001b[0;34m(\u001b[0m\u001b[0mxs\u001b[0m\u001b[0;34m)\u001b[0m\u001b[0;34m\u001b[0m\u001b[0;34m\u001b[0m\u001b[0m\n\u001b[0;32m----> 3\u001b[0;31m \u001b[0msoup\u001b[0m\u001b[0;34m.\u001b[0m\u001b[0mxs\u001b[0m\u001b[0;34m[\u001b[0m\u001b[0;36m0\u001b[0m\u001b[0;34m]\u001b[0m\u001b[0;34m\u001b[0m\u001b[0;34m\u001b[0m\u001b[0m\n\u001b[0m\u001b[1;32m      4\u001b[0m \u001b[0;31m#xs[0].find_all('script')[0]\u001b[0m\u001b[0;34m\u001b[0m\u001b[0;34m\u001b[0m\u001b[0;34m\u001b[0m\u001b[0m\n",
      "\u001b[0;31mTypeError\u001b[0m: 'NoneType' object is not subscriptable"
     ]
    }
   ],
   "source": [
    "xs = [x.name for x in soup.find_all()]\n",
    "set(xs)\n",
    "x=str(xs[0])\n",
    "soup.str(xs[0]\n",
    "#xs[0].find_all('script')[0]"
   ]
  },
  {
   "cell_type": "code",
   "execution_count": 49,
   "metadata": {},
   "outputs": [
    {
     "name": "stdout",
     "output_type": "stream",
     "text": [
      "None\n",
      ".\n"
     ]
    }
   ],
   "source": [
    "grand_list = soup.find(\"ul\", {\"id\": \"list-items\"})\n",
    "#creating a sub_soup\n",
    "sub_soup = BeautifulSoup(str(grand_list))\n",
    "events = sub_soup.find_all(\"li\", id = re.compile('^day-'))\n",
    "print(grand_list)\n",
    "print('.')"
   ]
  },
  {
   "cell_type": "code",
   "execution_count": 58,
   "metadata": {},
   "outputs": [
    {
     "ename": "SyntaxError",
     "evalue": "Missing parentheses in call to 'print'. Did you mean print('.')? (<ipython-input-58-8d9c8697030e>, line 14)",
     "output_type": "error",
     "traceback": [
      "\u001b[0;36m  File \u001b[0;32m\"<ipython-input-58-8d9c8697030e>\"\u001b[0;36m, line \u001b[0;32m14\u001b[0m\n\u001b[0;31m    print '.'\u001b[0m\n\u001b[0m            ^\u001b[0m\n\u001b[0;31mSyntaxError\u001b[0m\u001b[0;31m:\u001b[0m Missing parentheses in call to 'print'. Did you mean print('.')?\n"
     ]
    }
   ],
   "source": [
    "\n",
    "#Step 2. Reading url into html files\n",
    "tmp_list=[]\n",
    "\n",
    "for url in url_list: \n",
    "    \n",
    "    try:\n",
    "        auction = urllib2.urlopen(url)     \n",
    "        html = auction.read()\n",
    "        soup = BeautifulSoup(html)\n",
    "        grand_list = soup.find(\"ul\", {\"id\": \"list-items\"})\n",
    "        #creating a sub_soup\n",
    "        sub_soup = BeautifulSoup(str(grand_list))\n",
    "        events = sub_soup.find_all(\"li\", id = re.compile('^day-')) \n",
    "        print '.'\n",
    "    except:\n",
    "        print url\n",
    "        pass\n",
    "    print '-'\n",
    "    #inner loop to construct a dictionary for each event:\n",
    "    final_result = []\n",
    "    for event in events:\n",
    "        try:\n",
    "            auction = {}\n",
    "            url_find = event.find(\"a\", {\"class\": \"description\"}).get('href').encode('ascii', 'ignore').strip()\n",
    "            auction['month'] = event.find(\"span\", \"month\").get_text().encode('ascii', 'ignore').strip()\n",
    "            auction['date'] = event.find(\"span\", \"date\").get_text().encode('ascii', 'ignore').strip()\n",
    "            auction['year'] =  event.find(\"span\", \"year\").get_text().encode('ascii', 'ignore').strip()\n",
    "            auction['ID'] = event.find(\"a\", {\"class\": \"sale-number\"}).get_text().encode('ascii', 'ignore').strip()\n",
    "            auction['location'] = event.find(\"span\", \"location\").get_text().encode('ascii', 'ignore').strip()\n",
    "            auction['event_name'] = event.find(\"a\", {\"class\": \"description\"}).get_text().encode('ascii', 'ignore').strip()\n",
    "            auction['total_sales'] = event.find(\"ul\", {\"class\": \"auction-links\"}).find('a').get_text().encode('ascii', 'ignore').strip()\n",
    "            auction['url'] = \"http://www.christies.com\" + url_find\n",
    "            final_result.append(auction)\n",
    "            #\n",
    "            print auction['month']\n",
    "        except Exception as e:\n",
    "            print e\n",
    "    tmp_list += final_result\n",
    "    \n",
    "print len(tmp_list)"
   ]
  },
  {
   "cell_type": "code",
   "execution_count": null,
   "metadata": {},
   "outputs": [],
   "source": []
  }
 ],
 "metadata": {
  "kernelspec": {
   "display_name": "Python 3",
   "language": "python",
   "name": "python3"
  },
  "language_info": {
   "codemirror_mode": {
    "name": "ipython",
    "version": 3
   },
   "file_extension": ".py",
   "mimetype": "text/x-python",
   "name": "python",
   "nbconvert_exporter": "python",
   "pygments_lexer": "ipython3",
   "version": "3.7.9"
  }
 },
 "nbformat": 4,
 "nbformat_minor": 4
}
