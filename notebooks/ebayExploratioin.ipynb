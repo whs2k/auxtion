{
 "cells": [
  {
   "cell_type": "code",
   "execution_count": 1,
   "metadata": {},
   "outputs": [],
   "source": [
    "import pandas as pd\n",
    "import requests\n",
    "'https://partnerhelp.ebay.com/helpcenter/s/article/Using-Buy-APIs-to-retrieve-Luxury-Goods?language=en_US'"
   ]
  },
  {
   "cell_type": "markdown",
   "metadata": {},
   "source": [
    "To do:\n",
    "- Create Repo\n",
    "- Create API Secrets: https://docs.github.com/en/actions/security-guides/encrypted-secrets#about-encrypted-secrets\n",
    "- Create Scrapper\n",
    "- Create HTML\n",
    "- Serve on Pages\n",
    "- Create Action: https://yasoob.me/posts/github-actions-web-scraper-schedule-tutorial/"
   ]
  },
  {
   "cell_type": "code",
   "execution_count": 5,
   "metadata": {},
   "outputs": [],
   "source": [
    "url = '''https://api.ebay.com/buy/browse/v1/item_summary/search?offset=0&limit=10&q=watch'''\n",
    "r = requests.get(url)"
   ]
  },
  {
   "cell_type": "code",
   "execution_count": 9,
   "metadata": {},
   "outputs": [
    {
     "data": {
      "text/plain": [
       "'{\\n  \"errors\" : [ {\\n    \"errorId\" : 1002,\\n    \"domain\" : \"OAuth\",\\n    \"category\" : \"REQUEST\",\\n    \"message\" : \"Missing access token\",\\n    \"longMessage\" : \"Access token is missing in the Authorization HTTP request header.\"\\n  } ]\\n}'"
      ]
     },
     "execution_count": 9,
     "metadata": {},
     "output_type": "execute_result"
    }
   ],
   "source": [
    "r.text"
   ]
  },
  {
   "cell_type": "code",
   "execution_count": null,
   "metadata": {},
   "outputs": [],
   "source": []
  }
 ],
 "metadata": {
  "kernelspec": {
   "display_name": "Python 3",
   "language": "python",
   "name": "python3"
  },
  "language_info": {
   "codemirror_mode": {
    "name": "ipython",
    "version": 3
   },
   "file_extension": ".py",
   "mimetype": "text/x-python",
   "name": "python",
   "nbconvert_exporter": "python",
   "pygments_lexer": "ipython3",
   "version": "3.7.9"
  }
 },
 "nbformat": 4,
 "nbformat_minor": 4
}
