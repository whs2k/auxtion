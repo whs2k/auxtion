{
 "cells": [
  {
   "cell_type": "code",
   "execution_count": 218,
   "metadata": {},
   "outputs": [],
   "source": [
    "import pandas as pd\n",
    "import requests\n",
    "\n",
    "#For Obtaining Prod Access: https://developer.ebay.com/api-docs/buy/static/buy-requirements.html#Applying\n",
    "#API Tester: https://developer.ebay.com/my/api_test_tool?index=0&api=taxonomy&call=get_default_category_tree_id__GET&variation=json\n",
    "#'https://partnerhelp.ebay.com/helpcenter/s/article/Using-Buy-APIs-to-retrieve-Luxury-Goods?language=en_US'"
   ]
  },
  {
   "cell_type": "code",
   "execution_count": 228,
   "metadata": {},
   "outputs": [],
   "source": [
    "#Get token: https://developer.ebay.com/my/auth/?env=sandbox&index=0\n",
    "dummy_token = \"v^1.1#i^1#f^0#r^0#I^3#p^1#t^H4sIAAAAAAAAAOVYe2wURRjv9UUQCsSgNgT0shqENrs3u/fqbriLV/q6ClzlSlMagexjtl26t7vsznJ3ArHWSH0QjYgGYwI1akiIxgcYYoiSACKIidYUg0JMQxCIf6GiEJXE2W0p10KgpWds4v1z2Znv++b7/eZ7zAzoKp1asblh8+Uyz5TC3i7QVejx0NPA1NKSyhlFhXNKCkCOgKe366Gu4u6iC4ssPqUa3HJoGbpmQW8mpWoW5w5GCNvUOJ23FIvT+BS0OCRyydjSJRxDAc4wdaSLukp44zURIizTALJCEAAxLPkhi0e1azab9QjBSiEWiiAg0nRYYgMAz1uWDeOahXgNRQgGMAxJMyQTbAYMF6A5wFIhmm0jvC3QtBRdwyIUIKKuu5yra+b4emtXecuCJsJGiGg8VpdMxOI1tcuaF/lybEWHeEgiHtnWyK/FugS9Lbxqw1svY7nSXNIWRWhZhC86uMJIo1zsmjN34L5LtV8W2AAUhUAVG2LlUH6orNPNFI9u7Yczokik7IpyUEMKyt6OUcyGsBaKaOhrGTYRr/E6f4/ZvKrICjQjRG11bGWsqYmINkCpHTbo7WTMzjiAyWR1KxkGLJBDTNhPhnHw8AIvDK0zaGyI5VELLdY1SXFMWN5lOqqG2Gk4mhp/DjVYKKElzJiMHIdy5QLDFAbanD0d3EQbdWjOtsIU5sHrft5+A4a1ETIVwUZw2MLoCZehCMEbhiIRoyfdUByKnowVIToQMjifL51OU2k/pZvtPgYA2te6dElS7IApnnBknVx35ZXbK5CKC0WEWNNSOJQ1sC8ZHKrYAa2diPrZMM3QQ7yPdCs6evSGgRzMvpEJka8EwTESkAJ+GGaCwSCUq/KRINGhGPU5fkCBz5Ip3uyEyFB5EZIijjM7BU1F4vxBmfFXyZDEBU8mA6wsk0JQCpG0DCGAUBBEtup/lCdjjfQkFE2I8hPq+Qpz2be0ndXoJEglmpf717KxdO2K+lgmEU6vaFgXDMTUrJpd90Rbo56oiow1GW4KfrGqYGaa8fqTL9cbdAtBaULwkqJuwCZdVcTs5Npgvyk18SbKVttZ/J2Eqor/JgQ1ZhjxPBXsvG3guGrFncHOY5/6b3rUTVFZTtxOLlSOvoUN8IZCOV2IEp1c11M+ncdHEGd4jeu190bBG4V8gp2l2m1oIeyJhA+BY1ZScC2ncEOTxq4y2C4xiLGr4BuGZIvojhZy+zKF2VTaO5A1rjUzEyFFsNXOCQWdgm8OkyrkMNxB3Io0eOSnXPCUtV6kTGjptolvO1TCOQI3651QwycKZOqqCs2WiaWfU0tTKRvxggonW1HNQ3VR+HEfd4q7PUf+XVx0KEyz/hAIsRPCJroHmjWTrSfkuRWO42LjG/nKEi1wf3S351PQ7fmk0OMBYUDSlWBhadGK4qLphIWLCWXxmiToGUrhZQrXMY1HtgmpTpg1eMUsLPUoP/SLV3Led3pXgfLhF56pRfS0nOceMPf6TAk9874yhqEZJgiYAA3YNvDg9dli+t7i2bXkYW5KxZ+H7v6amPWbWRFfcGTgNCgbFvJ4SgpwMBZ4e5/jB07OOz7/9At/7bqrca/e/2Z9ufb3GdXeUnvPqhM9c977/fL+WWXnqi7PKKlY9W5fTV3/oh0N5w+tnv5OpW/b9G0DZFfRudJnn8/s/qzv/JbtV+a90WQW/lq96Zv+xleOppYfnUFs8B5rPPbiqe9+/GIW8/aemqt/bPoe/CzWox2Xsh8+fpItD556dQFx9nWo/DSbHNi/88SmhSv3BZXY3s6Pnvw8aaSvPL27p+aZDRfff6tgfuwgqtu6a3483bPnkZf3Jx7dWTq3R6qvXH36ovHBQ7N/Kb966eHWvjnf9j51tnxjS2bvtjOv9SUfOL71fhjefmDfpYNEunXn+i8Pf/VSQdUB9YJ2MLRx5seD2/gPMq1OAHkTAAA=\""
   ]
  },
  {
   "cell_type": "code",
   "execution_count": 233,
   "metadata": {},
   "outputs": [
    {
     "name": "stdout",
     "output_type": "stream",
     "text": [
      "buy/marketplace-insights api\n",
      "{'href': 'https://api.sandbox.ebay.com/buy/marketplace_insights/v1_beta/item_sales/search?filter=lastSoldDate:[2022-01-22T00:00:00Z..2022-12-24T00:00:00Z],\\nconditions:{NEW|USED},price:[10..10000],priceCurrency:USD&q=watch&sort=-price&offset=0&limit=10', 'total': 3, 'limit': 10, 'offset': 0, 'itemSales': [{'itemId': 'v1|110551074649|0', 'title': 'Rolex Air King Stainless Steel Black 116900-0001', 'condition': 'Used', 'conditionId': '3000', 'itemHref': 'https://api.sandbox.ebay.com/buy/browse/v1/item/v1|110551074649|0', 'itemWebUrl': 'http://www.sandbox.ebay.com/itm/Rolex-Air-King-Stainless-Steel-Black-116900-0001-/110551074649?hash=item19bd5b8759:i:110551074649', 'additionalImages': [{'imageUrl': 'https://galleryplus.ebayimg.com/ws/web/110551074649_2_0_1/225x225.jpg'}, {'imageUrl': 'https://galleryplus.ebayimg.com/ws/web/110551074649_3_0_1/225x225.jpg'}, {'imageUrl': 'https://galleryplus.ebayimg.com/ws/web/110551074649_4_0_1/225x225.jpg'}], 'categories': [{'categoryId': '35690'}, {'categoryId': '13600'}, {'categoryId': '1'}, {'categoryId': '34'}, {'categoryId': '36'}], 'adultOnly': False, 'buyingOptions': ['FIXED_PRICE'], 'lastSoldDate': '2022-10-19T09:41:30.000Z', 'totalSoldQuantity': 10, 'lastSoldPrice': {'value': '9999.00', 'currency': 'USD', 'convertedFromValue': '9999.00', 'convertedFromCurrency': 'USD'}, 'seller': {'feedbackScore': 0}, 'itemLocation': {'postalCode': '******', 'country': 'VN'}}, {'itemId': 'v1|110552676507|0', 'title': 'GSP Shipping WATCH-IT Pocket Watch EAGLE (TST001157)', 'condition': 'New', 'conditionId': '1000', 'itemHref': 'https://api.sandbox.ebay.com/buy/browse/v1/item/v1|110552676507|0', 'itemWebUrl': 'http://www.sandbox.ebay.com/itm/GSP-Shipping-WATCH-IT-Pocket-Watch-EAGLE-TST001157-/110552676507?hash=item19bd73f89b:i:110552676507', 'categories': [{'categoryId': '95168'}, {'categoryId': '1'}, {'categoryId': '417'}, {'categoryId': '1444'}], 'adultOnly': False, 'buyingOptions': ['FIXED_PRICE'], 'lastSoldDate': '2022-11-15T18:01:57.000Z', 'totalSoldQuantity': 1, 'lastSoldPrice': {'value': '20.00', 'currency': 'USD', 'convertedFromValue': '20.00', 'convertedFromCurrency': 'USD'}, 'seller': {'username': 'testuser_slava_seller', 'feedbackPercentage': '100.0', 'feedbackScore': 1}, 'itemLocation': {'postalCode': '891**', 'country': 'US'}}, {'itemId': 'v1|110552699805|0', 'title': 'Men Sports Watch Big Screen Military Gym Wristwatch Waterproof', 'condition': 'New with tags', 'conditionId': '1000', 'itemHref': 'https://api.sandbox.ebay.com/buy/browse/v1/item/v1|110552699805|0', 'itemWebUrl': 'http://www.sandbox.ebay.com/itm/Men-Sports-Watch-Big-Screen-Military-Gym-Wristwatch-Waterproof-/110552699805?hash=item19bd74539d:g:I2QAAOSwh2RjbKu9', 'image': {'imageUrl': 'https://i.ebayimg.com/thumbs/images/g/I2QAAOSwh2RjbKu9/s-l225.jpg'}, 'additionalImages': [{'imageUrl': 'https://galleryplus.ebayimg.com/ws/web/110552699805_2_0_1/225x225.jpg'}, {'imageUrl': 'https://galleryplus.ebayimg.com/ws/web/110552699805_3_0_1/225x225.jpg'}], 'categories': [{'categoryId': '31387'}, {'categoryId': '281'}, {'categoryId': '260324'}, {'categoryId': '260325'}], 'adultOnly': False, 'buyingOptions': ['FIXED_PRICE'], 'lastSoldDate': '2022-11-30T10:10:13.000Z', 'totalSoldQuantity': 2, 'lastSoldPrice': {'value': '18.10', 'currency': 'USD', 'convertedFromValue': '18.10', 'convertedFromCurrency': 'USD'}, 'seller': {'feedbackScore': 500}, 'itemLocation': {'postalCode': '951**', 'country': 'US'}, 'thumbnailImages': [{'imageUrl': 'http://i.ebayimg.sandbox.ebay.com/images/g/I2QAAOSwh2RjbKu9/s-l1200.jpg'}]}]}\n",
      "3\n",
      "Rolex Air King Stainless Steel Black 116900-0001\n",
      "2022-10-19T09:41:30.000Z\n",
      "{'value': '9999.00', 'currency': 'USD', 'convertedFromValue': '9999.00', 'convertedFromCurrency': 'USD'}\n",
      "http://www.sandbox.ebay.com/itm/Rolex-Air-King-Stainless-Steel-Black-116900-0001-/110551074649?hash=item19bd5b8759:i:110551074649\n",
      "GSP Shipping WATCH-IT Pocket Watch EAGLE (TST001157)\n",
      "2022-11-15T18:01:57.000Z\n",
      "{'value': '20.00', 'currency': 'USD', 'convertedFromValue': '20.00', 'convertedFromCurrency': 'USD'}\n",
      "http://www.sandbox.ebay.com/itm/GSP-Shipping-WATCH-IT-Pocket-Watch-EAGLE-TST001157-/110552676507?hash=item19bd73f89b:i:110552676507\n",
      "Men Sports Watch Big Screen Military Gym Wristwatch Waterproof\n",
      "2022-11-30T10:10:13.000Z\n",
      "{'value': '18.10', 'currency': 'USD', 'convertedFromValue': '18.10', 'convertedFromCurrency': 'USD'}\n",
      "http://www.sandbox.ebay.com/itm/Men-Sports-Watch-Big-Screen-Military-Gym-Wristwatch-Waterproof-/110552699805?hash=item19bd74539d:g:I2QAAOSwh2RjbKu9\n"
     ]
    },
    {
     "data": {
      "text/html": [
       "<div>\n",
       "<style scoped>\n",
       "    .dataframe tbody tr th:only-of-type {\n",
       "        vertical-align: middle;\n",
       "    }\n",
       "\n",
       "    .dataframe tbody tr th {\n",
       "        vertical-align: top;\n",
       "    }\n",
       "\n",
       "    .dataframe thead th {\n",
       "        text-align: right;\n",
       "    }\n",
       "</style>\n",
       "<table border=\"1\" class=\"dataframe\">\n",
       "  <thead>\n",
       "    <tr style=\"text-align: right;\">\n",
       "      <th></th>\n",
       "      <th>title</th>\n",
       "      <th>sold_date</th>\n",
       "      <th>sold_price</th>\n",
       "      <th>web_url</th>\n",
       "    </tr>\n",
       "  </thead>\n",
       "  <tbody>\n",
       "    <tr>\n",
       "      <th>0</th>\n",
       "      <td>Rolex Air King Stainless Steel Black 116900-0001</td>\n",
       "      <td>2022-10-19T09:41:30.000Z</td>\n",
       "      <td>{'value': '9999.00', 'currency': 'USD', 'conve...</td>\n",
       "      <td>http://www.sandbox.ebay.com/itm/Rolex-Air-King...</td>\n",
       "    </tr>\n",
       "    <tr>\n",
       "      <th>1</th>\n",
       "      <td>GSP Shipping WATCH-IT Pocket Watch EAGLE (TST0...</td>\n",
       "      <td>2022-11-15T18:01:57.000Z</td>\n",
       "      <td>{'value': '20.00', 'currency': 'USD', 'convert...</td>\n",
       "      <td>http://www.sandbox.ebay.com/itm/GSP-Shipping-W...</td>\n",
       "    </tr>\n",
       "    <tr>\n",
       "      <th>2</th>\n",
       "      <td>Men Sports Watch Big Screen Military Gym Wrist...</td>\n",
       "      <td>2022-11-30T10:10:13.000Z</td>\n",
       "      <td>{'value': '18.10', 'currency': 'USD', 'convert...</td>\n",
       "      <td>http://www.sandbox.ebay.com/itm/Men-Sports-Wat...</td>\n",
       "    </tr>\n",
       "  </tbody>\n",
       "</table>\n",
       "</div>"
      ],
      "text/plain": [
       "                                               title  \\\n",
       "0   Rolex Air King Stainless Steel Black 116900-0001   \n",
       "1  GSP Shipping WATCH-IT Pocket Watch EAGLE (TST0...   \n",
       "2  Men Sports Watch Big Screen Military Gym Wrist...   \n",
       "\n",
       "                  sold_date  \\\n",
       "0  2022-10-19T09:41:30.000Z   \n",
       "1  2022-11-15T18:01:57.000Z   \n",
       "2  2022-11-30T10:10:13.000Z   \n",
       "\n",
       "                                          sold_price  \\\n",
       "0  {'value': '9999.00', 'currency': 'USD', 'conve...   \n",
       "1  {'value': '20.00', 'currency': 'USD', 'convert...   \n",
       "2  {'value': '18.10', 'currency': 'USD', 'convert...   \n",
       "\n",
       "                                             web_url  \n",
       "0  http://www.sandbox.ebay.com/itm/Rolex-Air-King...  \n",
       "1  http://www.sandbox.ebay.com/itm/GSP-Shipping-W...  \n",
       "2  http://www.sandbox.ebay.com/itm/Men-Sports-Wat...  "
      ]
     },
     "execution_count": 233,
     "metadata": {},
     "output_type": "execute_result"
    }
   ],
   "source": [
    "#https://developer.ebay.com/api-docs/buy/marketplace-insights/resources/item_sales/methods/search\n",
    "print('buy/marketplace-insights api')\n",
    "header = {'Authorization':'Bearer {}'.format(dummy_token),\n",
    "          'X-EBAY-C-MARKETPLACE-ID': 'EBAY_US',\n",
    "          'Content-Type':'application/json'}\n",
    "          #'X-EBAY-C-ENDUSERCTX':'affiliateCampaignId=<ePNCampaignId>,affiliateReferenceId=<referenceId>'}\n",
    "base_url = \"https://api.sandbox.ebay.com/buy/marketplace_insights/v1_beta/item_sales/search?\"\n",
    "query = \"q=watch\"\n",
    "sort = \"&sort=-price\"\n",
    "category = \"&category_ids=31387\"#281\"\n",
    "filters = '''&filter=lastSoldDate:[2022-01-22T00:00:00Z..2022-12-24T00:00:00Z],\n",
    "conditions:{NEW|USED},price:[10..10000],priceCurrency:USD'''\n",
    "limit= \"&limit=10\"\n",
    "url = base_url+query+filters+sort+limit\n",
    "\n",
    "#url = base_url +category\n",
    "\n",
    "'''\n",
    "buyingOptions:{FIXED_PRICE|BEST_OFFER},\n",
    "price:[10..10000],priceCurrency:USD,\n",
    "&offset=0\n",
    "\n",
    "'''\n",
    "#filters = \"&filter=lastSoldDate:[2022-08-30T00:00:00Z..2022-12-17T00:00:00Z]\"#\"&filter=itemEndDate:[2018-11-14T07:47:48Z\"#\"&itemEndDate:[2022-12-01]\"\n",
    "#url = url+filters\n",
    "r = requests.get(url, headers=header)\n",
    "content = r.json()\n",
    "print(content)\n",
    "print(content['total'])\n",
    "titles=[]\n",
    "sold_dates=[] \n",
    "sold_prices=[] \n",
    "web_urls = []\n",
    " \n",
    "for x in content['itemSales']:\n",
    "    print(x['title'])\n",
    "    print(x['lastSoldDate'])\n",
    "    print(x['lastSoldPrice'])\n",
    "    print(x['itemWebUrl'])     \n",
    "    titles.append(x['title'])\n",
    "    sold_dates.append(x['lastSoldDate'])\n",
    "    sold_prices.append(x['lastSoldPrice'])\n",
    "    web_urls.append(x['itemWebUrl'])\n",
    "df = pd.DataFrame()\n",
    "df['title'] = titles\n",
    "df['sold_date'] = sold_dates\n",
    "df['sold_price'] = sold_prices\n",
    "df['web_url'] = web_urls\n",
    "df.tail()\n",
    "\n",
    "#print(content['itemSales'][0]['lastSoldPrice'])\n",
    "\n",
    "#content['itemSales'][0]"
   ]
  },
  {
   "cell_type": "code",
   "execution_count": null,
   "metadata": {},
   "outputs": [],
   "source": []
  },
  {
   "cell_type": "markdown",
   "metadata": {},
   "source": [
    "To do:\n",
    "- Create Repo\n",
    "- Create API Secrets: https://docs.github.com/en/actions/security-guides/encrypted-secrets#about-encrypted-secrets\n",
    "- Create Scrapper\n",
    "- Create HTML\n",
    "- Serve on Pages\n",
    "- Create Action: https://yasoob.me/posts/github-actions-web-scraper-schedule-tutorial/"
   ]
  },
  {
   "cell_type": "code",
   "execution_count": 116,
   "metadata": {},
   "outputs": [
    {
     "data": {
      "text/plain": [
       "{'errors': [{'errorId': 1001,\n",
       "   'domain': 'OAuth',\n",
       "   'category': 'REQUEST',\n",
       "   'message': 'Invalid access token',\n",
       "   'longMessage': 'Invalid access token. Check the value of the Authorization HTTP request header.'}]}"
      ]
     },
     "execution_count": 116,
     "metadata": {},
     "output_type": "execute_result"
    }
   ],
   "source": [
    "url = '''https://api.sandbox.ebay.com/buy/browse/v1/item_summary/search?offset=0&limit=10&q=watch&filter=price:[1000..10000],priceCurrency:USD'''\n",
    "url = '''https://api.sandbox.ebay.com/buy/browse/v1/item_summary/search?q=drone&limit=3&filter=price:[1000..10000],priceCurrency:USD'''\n",
    "header = {'Authorization':'Bearer {}'.format(dummy_token),\n",
    "          'X-EBAY-C-MARKETPLACE-ID': 'EBAY_US',\n",
    "          'Content-Type':'application/json',\n",
    "          'X-EBAY-C-ENDUSERCTX':'affiliateCampaignId=<ePNCampaignId>,affiliateReferenceId=<referenceId>'}\n",
    "url = \"https://api.ebay.com/commerce/taxonomy/v1/category_tree/0\"\n",
    "#filters = \"&filter=price:[10],priceCurrency:USD&itemStartDate:[2022-01-01]&itemEndDate:[2022-12-01]\"\n",
    "#url = url+filters\n",
    "r = requests.get(url, headers=header)\n",
    "content = r.json()\n",
    "content\n",
    "#content['itemSales'][0]"
   ]
  },
  {
   "cell_type": "code",
   "execution_count": 193,
   "metadata": {},
   "outputs": [
    {
     "name": "stdout",
     "output_type": "stream",
     "text": [
      "buy/marketplace-insights api\n",
      "{'error_code': 'invalid_token', 'error_description': 'Invalid token: Token expired', 'errorMessage': {'error': [{'errorId': 1001, 'domain': 'OAuth', 'category': 'REQUEST', 'message': 'Invalid token: Token expired', 'longMessage': 'Invalid token: Token expired', 'actionToTake': 'CORRECTINPUTDATA'}]}, 'extension': []}\n"
     ]
    },
    {
     "ename": "KeyError",
     "evalue": "'itemSales'",
     "output_type": "error",
     "traceback": [
      "\u001b[0;31m---------------------------------------------------------------------------\u001b[0m",
      "\u001b[0;31mKeyError\u001b[0m                                  Traceback (most recent call last)",
      "\u001b[0;32m<ipython-input-193-8a3b5fb78609>\u001b[0m in \u001b[0;36m<module>\u001b[0;34m\u001b[0m\n\u001b[1;32m     26\u001b[0m \u001b[0mprint\u001b[0m\u001b[0;34m(\u001b[0m\u001b[0mcontent\u001b[0m\u001b[0;34m)\u001b[0m\u001b[0;34m\u001b[0m\u001b[0;34m\u001b[0m\u001b[0m\n\u001b[1;32m     27\u001b[0m \u001b[0;31m#print(content['total'])\u001b[0m\u001b[0;34m\u001b[0m\u001b[0;34m\u001b[0m\u001b[0;34m\u001b[0m\u001b[0m\n\u001b[0;32m---> 28\u001b[0;31m \u001b[0;32mfor\u001b[0m \u001b[0mx\u001b[0m \u001b[0;32min\u001b[0m \u001b[0mcontent\u001b[0m\u001b[0;34m[\u001b[0m\u001b[0;34m'itemSales'\u001b[0m\u001b[0;34m]\u001b[0m\u001b[0;34m:\u001b[0m\u001b[0;34m\u001b[0m\u001b[0;34m\u001b[0m\u001b[0m\n\u001b[0m\u001b[1;32m     29\u001b[0m     \u001b[0mprint\u001b[0m\u001b[0;34m(\u001b[0m\u001b[0mx\u001b[0m\u001b[0;34m[\u001b[0m\u001b[0;34m'lastSoldPrice'\u001b[0m\u001b[0;34m]\u001b[0m\u001b[0;34m)\u001b[0m\u001b[0;34m\u001b[0m\u001b[0;34m\u001b[0m\u001b[0m\n\u001b[1;32m     30\u001b[0m \u001b[0;31m#print(content['itemSales'][0]['lastSoldPrice'])\u001b[0m\u001b[0;34m\u001b[0m\u001b[0;34m\u001b[0m\u001b[0;34m\u001b[0m\u001b[0m\n",
      "\u001b[0;31mKeyError\u001b[0m: 'itemSales'"
     ]
    }
   ],
   "source": []
  },
  {
   "cell_type": "code",
   "execution_count": 66,
   "metadata": {
    "collapsed": true,
    "jupyter": {
     "outputs_hidden": true
    }
   },
   "outputs": [
    {
     "data": {
      "text/plain": [
       "'Authorization:Bearer v^1.1#i^1#f^0#r^0#I^3#p^1#t^H4sIAAAAAAAAAOVYe2wURRjv9XEFK2giqYqPXFaCCNnnXe9ul97J9QE9pFzljoolpM7uzl2X7u0eO7NcT4xpGinBYEhAoxBJgL+QhxASGxWNBpU/iiGYEDHgHwhRiZFgookgiTi7LaUtBFp6xiZeLtnMzPd9832/+V4zXLd36tzept4/p3kqS3d2c92lHg9fxU31VsybXlY6s6KEG0bg2dk9q7u8p+xiLQJZPSctgyhnGgj6urK6gSR3MkLZliGZAGlIMkAWIgkrUjLWvEQSGE7KWSY2FVOnfPGGCAU4UMOLASDWcCrvD6hk1rghM2VGKBnIiuKvSauQE4NcUCbrCNkwbiAMDByhBE4QaJ78xZQgSIGgJIhMTVhso3yt0EKaaRAShqOirrqSy2sN0/XOqgKEoIWJECoajy1MJmLxhsalqVp2mKzoIA5JDLCNRo7qTRX6WoFuwztvg1xqKWkrCkSIYqMDO4wUKsVuKHMP6rtQ14QUqIgwDEKiqPLBoiC50LSyAN9ZDWdGU+m0SypBA2u4cDdACRjyaqjgwdFSIiLe4HM+z9tA19IatCJUY13sxVhLCxVtgmoGNpkZOmZ3OfbSyboVdIgTuXRQCPnpEM+HAHGkwX0GhA2CPGqjetNQNUcE8i01cR0kSsPR0PiHQUOIEkbCiqWxo9ANOoFLcdwQhEKbc6QDZ2jjDsM5VZglOPjc4d0PYIgbY0uTbQyHJIxecBEiQZXLaSo1etH1xEHn6UIRqgPjnMSy+XyeyfsZ08qwAsfx7IrmJUmlA2YB5dI6se7Qa3dnoDXXFAUSTqRJuJAjunQRTyUKGBkq6hdDvMAP4j5Srejo2VsmhtnMjoyHYsVHWPAHFB7KajotBgMyKEaARAd9lHX0gDIo0FlgdUKc04ECaYX4mZ2FlqZKJMUJ/nAa0mpQTNMBMZ2m5Ro1SPNpCDkIZVkRw/+jOBmrpyehYkFcJFcvkpun2eaMaPBJLptILfOvFmP5xuWLYl2JUH5505qaQEwv6IU1L7ctNhPhyFiD4bbG1+saQSZF9p98sd5kIgzVCZmXVMwcbDF1TSlMrgP2W2oLsHChzi6QcRLqOvlMyNRYLhcvVsIu1gGOK1fcm9nFrFP/SY26rVXI8dvJZZXDj4gAkNMYpwoxiunEepY1AWlBnOl2V2vfbQhvIWJlu8BkbIgw0UQlTeCYmTSSyxlS0NSxswyUS2LE2FnIBUO1FXxPG7l1mSFoapkOjMa1Z9dEQJFtvXNCTqeRi8Okcjli7oDdmjrQ8jOu8QxaqzAWRKZtkcsOk3Ba4JTZCQ3SUWDL1HVotU4s/Jxcms3aGMg6nGxJtQjZRQPjb3fKezxf/at28cEQHwiLYlickG2K29C0T7aaUORSOI6LDTvykSVa4v74Hs+nXI/no1KPhwtxND+Pe8Zbtry87H4KkWTCIGCostnFaCDNkDxmAGxbkOmEhRzQrFKvRztzSrky7Hln5yrukaEHnqllfNWw1x7u8ZsrFfwDD08TBOLAoiAEgoLYxj11c7Wcry6f8Wvzkfsa5sy/ejz75uzDZ48dfG/TC19y04aIPJ6KEuKLJWbH5fmPHZq+8WTvipXfrt94Yd+ec/3Mqblbr9W1PnrAuw6de/elD6uPxS8l6z73XWprzleeZ58zbNizeM/6zic69+7a0fN2babqTPyX48f6Nbpt7mef/LSxrzEIOzdcaZ95Pby478TZ3tL4195dC05kptRv2ef/cbt3yqLqVMmey+xsVvccSLy++f2eazMv9B3qb3p2XXzN7sqn31mCL16bfar2te+jpyOrfqi8fHJtNrB9ZV/p3ks7PEcvHG6vKtn73SsPhQ4eXi919+eNB6v/Wvhb7uOtJUfX/j7jm9QHV1OV08/P+aJ6w/6IB7667a0jm/5QrC2+i/vAGz972e7dh/6+fvrJ/bMaek9vWzBwjP8AOxKEIHgTAAA=\\nContent-Type:application/json\\nX-EBAY-C-MARKETPLACE-ID:EBAY_US\\nX-EBAY-C-ENDUSERCTX:affiliateCampaignId=<ePNCampaignId>,affiliateReferenceId=<referenceId>\\n'"
      ]
     },
     "execution_count": 66,
     "metadata": {},
     "output_type": "execute_result"
    }
   ],
   "source": []
  },
  {
   "cell_type": "code",
   "execution_count": 87,
   "metadata": {},
   "outputs": [
    {
     "name": "stdout",
     "output_type": "stream",
     "text": [
      "<Response [200]>\n"
     ]
    },
    {
     "data": {
      "text/plain": [
       "{'href': 'https://api.sandbox.ebay.com/buy/marketplace_insights/v1_beta/item_sales/search?filter=price:[100..10000],priceCurrency:USD&category_ids=31387&offset=0&limit=50',\n",
       " 'total': 0,\n",
       " 'limit': 50,\n",
       " 'offset': 0}"
      ]
     },
     "execution_count": 87,
     "metadata": {},
     "output_type": "execute_result"
    }
   ],
   "source": [
    "url = '''https://api.sandbox.ebay.com/buy/marketplace-insights/v1_beta/item_sales/search?category_ids=31387&filter=price:[1000..10000],priceCurrency:USD'''\n",
    "#url = '''https://api.sandbox.ebay.com/buy/browse/v1/item_summary/search?q=drone&limit=3&filter=price:[1000..10000],priceCurrency:USD'''\n",
    "header = {'Authorization':'Bearer {}'.format(dummy_token),\n",
    "          'X-EBAY-C-MARKETPLACE-ID': 'EBAY_US',\n",
    "          'Content-Type':'application/json',\n",
    "          'X-EBAY-C-ENDUSERCTX':'affiliateCampaignId=<ePNCampaignId>,affiliateReferenceId=<referenceId>'}\n",
    "url = '''https://api.sandbox.ebay.com/buy/marketplace_insights/v1_beta/item_sales/search?category_ids=31387'''\n",
    "filter = \"&filter=price:[100..10000],priceCurrency:USD\"\n",
    "url=url+filter\n",
    "r = requests.get(url, headers=header)\n",
    "print(r)\n",
    "content = r.json()\n",
    "content#['itemSales'][0]"
   ]
  },
  {
   "cell_type": "code",
   "execution_count": 70,
   "metadata": {
    "collapsed": true,
    "jupyter": {
     "outputs_hidden": true
    }
   },
   "outputs": [
    {
     "data": {
      "text/plain": [
       "{'itemId': 'v1|110552698348|410108591687',\n",
       " 'title': 'Autel Robotics EVO Nano Plus Ultralight 3-Axis Gimbal 249g 4K Camera Drone RYYB',\n",
       " 'itemGroupHref': 'https://api.sandbox.ebay.com/buy/browse/v1/item/get_items_by_item_group?item_group_id=110552698348',\n",
       " 'condition': 'New',\n",
       " 'conditionId': '1000',\n",
       " 'itemHref': 'https://api.sandbox.ebay.com/buy/browse/v1/item/v1|110552698348|410108591687',\n",
       " 'itemWebUrl': 'http://www.sandbox.ebay.com/itm/Autel-Robotics-EVO-Nano-Plus-Ultralight-3-Axis-Gimbal-249g-4K-Camera-Drone-RYYB-/110552698348?hash=item19bd744dec:g:i~sAAOSwRLxiz8uC',\n",
       " 'itemAffiliateWebUrl': 'http://www.sandbox.ebay.com/itm/Autel-Robotics-EVO-Nano-Plus-Ultralight-3-Axis-Gimbal-249g-4K-Camera-Drone-RYYB-/110552698348?hash=item19bd744dec%3Ag%3Ai%7EsAAOSwRLxiz8uC&mkevt=1&mkcid=1&mkrid=711-53200-19255-0&campid=%253CePNCampaignId%253E&customid=%253CreferenceId%253E&toolid=11008',\n",
       " 'image': {'imageUrl': 'https://i.ebayimg.com/thumbs/images/g/i~sAAOSwRLxiz8uC/s-l225.jpg'},\n",
       " 'additionalImages': [{'imageUrl': 'https://galleryplus.ebayimg.com/ws/web/110552698348_2_0_1/225x225.jpg'},\n",
       "  {'imageUrl': 'https://galleryplus.ebayimg.com/ws/web/110552698348_3_0_1/225x225.jpg'},\n",
       "  {'imageUrl': 'https://galleryplus.ebayimg.com/ws/web/110552698348_4_0_1/225x225.jpg'},\n",
       "  {'imageUrl': 'https://galleryplus.ebayimg.com/ws/web/110552698348_5_0_1/225x225.jpg'},\n",
       "  {'imageUrl': 'https://galleryplus.ebayimg.com/ws/web/110552698348_6_0_1/225x225.jpg'},\n",
       "  {'imageUrl': 'https://galleryplus.ebayimg.com/ws/web/110552698348_7_0_1/225x225.jpg'},\n",
       "  {'imageUrl': 'https://galleryplus.ebayimg.com/ws/web/110552698348_8_0_1/225x225.jpg'},\n",
       "  {'imageUrl': 'https://galleryplus.ebayimg.com/ws/web/110552698348_9_0_1/225x225.jpg'},\n",
       "  {'imageUrl': 'https://galleryplus.ebayimg.com/ws/web/110552698348_10_0_1/225x225.jpg'},\n",
       "  {'imageUrl': 'https://galleryplus.ebayimg.com/ws/web/110552698348_11_0_1/225x225.jpg'}],\n",
       " 'categories': [{'categoryId': '179697'},\n",
       "  {'categoryId': '162480'},\n",
       "  {'categoryId': '625'},\n",
       "  {'categoryId': '15200'}],\n",
       " 'adultOnly': False,\n",
       " 'buyingOptions': ['FIXED_PRICE'],\n",
       " 'itemGroupType': 'SELLER_DEFINED_VARIATIONS',\n",
       " 'lastSoldDate': '2022-11-29T09:22:12.000Z',\n",
       " 'totalSoldQuantity': 2,\n",
       " 'lastSoldPrice': {'value': '659.00',\n",
       "  'currency': 'USD',\n",
       "  'convertedFromValue': '659.00',\n",
       "  'convertedFromCurrency': 'USD'},\n",
       " 'seller': {'username': 'testuser_pa4_demo_4',\n",
       "  'feedbackPercentage': '0.0',\n",
       "  'feedbackScore': 500},\n",
       " 'itemLocation': {'postalCode': '900**', 'country': 'US'},\n",
       " 'thumbnailImages': [{'imageUrl': 'http://i.ebayimg.sandbox.ebay.com/images/g/i~sAAOSwRLxiz8uC/s-l225.jpg'}]}"
      ]
     },
     "execution_count": 70,
     "metadata": {},
     "output_type": "execute_result"
    }
   ],
   "source": [
    "content = r.json()\n",
    "content['itemSales'][0]\n",
    "#content.keys()"
   ]
  },
  {
   "cell_type": "code",
   "execution_count": 181,
   "metadata": {},
   "outputs": [
    {
     "name": "stdout",
     "output_type": "stream",
     "text": [
      "{'errors': [{'errorId': 2002, 'domain': 'ACCESS', 'category': 'REQUEST', 'message': 'Resource not found', 'longMessage': 'A resource (URI) associated with the request could not be resolved.', 'parameters': [{'name': 'reason', 'value': 'null for uri: https://api.sandbox.ebay.com/buy/browse/v1/item_sales/search?offset=0&limit=10%0A&q=watch%0A&filter=lastSoldDate:%5B2022-11-30T00:00:00Z..2022-12-30T00:00:00Z,%0Aprice:%5B1000..10000%5D,%0ApriceCurrency:USD,%0AbuyingOptions:%7BFIXED_PRICE%7CBEST_OFFER%7D,%0Aconditions:%7BNEW%7CUSED%7D%0A&category_ids=281%0A'}]}]}\n"
     ]
    }
   ],
   "source": [
    "header = {'Authorization':'Bearer {}'.format(dummy_token),\n",
    "          'X-EBAY-C-MARKETPLACE-ID': 'EBAY_US',\n",
    "          'Content-Type':'application/json',\n",
    "          'X-EBAY-C-ENDUSERCTX':'affiliateCampaignId=<ePNCampaignId>,affiliateReferenceId=<referenceId>'}\n",
    "url = '''https://api.sandbox.ebay.com/buy/browse/v1/item_sales/search?offset=0&limit=10\n",
    "&q=watch\n",
    "&filter=lastSoldDate:[2022-11-30T00:00:00Z..2022-12-30T00:00:00Z,\n",
    "price:[1000..10000],\n",
    "priceCurrency:USD,\n",
    "buyingOptions:{FIXED_PRICE|BEST_OFFER},\n",
    "conditions:{NEW|USED}\n",
    "&category_ids=281\n",
    "'''\n",
    "#filters = \"&filter=lastSoldDate:[2022-08-30T00:00:00Z..2022-12-17T00:00:00Z]\"#\"&filter=itemEndDate:[2018-11-14T07:47:48Z\"#\"&itemEndDate:[2022-12-01]\"\n",
    "#url = url+filters\n",
    "r = requests.get(url, headers=header)\n",
    "content = r.json()\n",
    "print(content)\n",
    "#print(content['total'])\n",
    "#content['itemSales'][0]\n",
    "#content['itemSales'][0]"
   ]
  },
  {
   "cell_type": "code",
   "execution_count": null,
   "metadata": {},
   "outputs": [],
   "source": []
  }
 ],
 "metadata": {
  "kernelspec": {
   "display_name": "Python 3",
   "language": "python",
   "name": "python3"
  },
  "language_info": {
   "codemirror_mode": {
    "name": "ipython",
    "version": 3
   },
   "file_extension": ".py",
   "mimetype": "text/x-python",
   "name": "python",
   "nbconvert_exporter": "python",
   "pygments_lexer": "ipython3",
   "version": "3.7.9"
  }
 },
 "nbformat": 4,
 "nbformat_minor": 4
}
